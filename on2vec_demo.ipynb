{
 "cells": [
  {
   "cell_type": "markdown",
   "metadata": {},
   "source": [
    "# on2vec: Ontology Embeddings Demo\n",
    "\n",
    "This notebook demonstrates how to use the on2vec toolkit to generate embeddings from OWL ontologies.\n",
    "\n",
    "We'll use the Cardiovascular Disease Ontology (CVDO) as an example - a structured vocabulary for cardiovascular disease concepts, risk factors, and related terms.\n",
    "\n",
    "## Overview\n",
    "\n",
    "1. **Download**: Get the Cardiovascular Disease Ontology OWL file\n",
    "2. **Train**: Create a GNN model from the ontology structure \n",
    "3. **Embed**: Generate embedding vectors for all concepts\n",
    "4. **Analyze**: Explore the embeddings with metadata and vector operations\n",
    "5. **Export**: Convert to different formats for downstream analysis"
   ]
  },
  {
   "cell_type": "markdown",
   "metadata": {},
   "source": [
    "## Setup\n",
    "\n",
    "First, let's install the notebook dependencies and import required modules:"
   ]
  },
  {
   "cell_type": "code",
   "execution_count": 1,
   "metadata": {},
   "outputs": [],
   "source": [
    "# Install notebook dependencies if needed\n",
    "import sys\n",
    "import subprocess\n",
    "\n",
    "def install_if_missing(package):\n",
    "    try:\n",
    "        __import__(package)\n",
    "    except ImportError:\n",
    "        subprocess.check_call([sys.executable, \"-m\", \"pip\", \"install\", package])\n",
    "\n",
    "install_if_missing(\"requests\")\n",
    "install_if_missing(\"IPython\")"
   ]
  },
  {
   "cell_type": "code",
   "execution_count": 2,
   "metadata": {},
   "outputs": [
    {
     "name": "stdout",
     "output_type": "stream",
     "text": [
      "✅ Imports successful!\n"
     ]
    }
   ],
   "source": [
    "import os\n",
    "import sys\n",
    "import requests\n",
    "import numpy as np\n",
    "from pathlib import Path\n",
    "from IPython.display import display, Markdown, HTML\n",
    "\n",
    "# Add the on2vec package to the path\n",
    "sys.path.insert(0, '.')\n",
    "\n",
    "# Import on2vec modules\n",
    "from on2vec import (\n",
    "    train_ontology_embeddings,\n",
    "    embed_ontology_with_model,\n",
    "    inspect_parquet_metadata,\n",
    "    load_embeddings_as_dataframe,\n",
    "    convert_parquet_to_csv,\n",
    "    add_embedding_vectors,\n",
    "    subtract_embedding_vectors,\n",
    "    get_embedding_vector\n",
    ")\n",
    "\n",
    "print(\"✅ Imports successful!\")"
   ]
  },
  {
   "cell_type": "markdown",
   "metadata": {},
   "source": [
    "## Step 1: Download the Cardiovascular Disease Ontology\n",
    "\n",
    "The Cardiovascular Disease Ontology (CVDO) is a structured vocabulary for cardiovascular disease concepts. Let's download it:"
   ]
  },
  {
   "cell_type": "code",
   "execution_count": 3,
   "metadata": {},
   "outputs": [
    {
     "name": "stdout",
     "output_type": "stream",
     "text": [
      "📁 cvdo.owl already exists (size: 1,339,226 bytes)\n"
     ]
    },
    {
     "data": {
      "text/markdown": [
       "**📊 Cardiovascular Disease Ontology downloaded:** `cvdo.owl`"
      ],
      "text/plain": [
       "<IPython.core.display.Markdown object>"
      ]
     },
     "metadata": {},
     "output_type": "display_data"
    },
    {
     "data": {
      "text/markdown": [
       "**📏 File size:** 1,339,226 bytes (1.3 MB)"
      ],
      "text/plain": [
       "<IPython.core.display.Markdown object>"
      ]
     },
     "metadata": {},
     "output_type": "display_data"
    }
   ],
   "source": [
    "def download_owl_file(url, filename):\n",
    "    \"\"\"Download an OWL file from URL with progress indication.\"\"\"\n",
    "    if os.path.exists(filename):\n",
    "        print(f\"📁 {filename} already exists (size: {os.path.getsize(filename):,} bytes)\")\n",
    "        return filename\n",
    "    \n",
    "    print(f\"⬇️  Downloading {filename} from {url}\")\n",
    "    \n",
    "    try:\n",
    "        response = requests.get(url, stream=True)\n",
    "        response.raise_for_status()\n",
    "        \n",
    "        total_size = int(response.headers.get('content-length', 0))\n",
    "        \n",
    "        with open(filename, 'wb') as f:\n",
    "            downloaded = 0\n",
    "            for chunk in response.iter_content(chunk_size=8192):\n",
    "                if chunk:\n",
    "                    f.write(chunk)\n",
    "                    downloaded += len(chunk)\n",
    "                    if total_size > 0:\n",
    "                        percent = (downloaded / total_size) * 100\n",
    "                        print(f\"\\rProgress: {percent:.1f}% ({downloaded:,}/{total_size:,} bytes)\", end=\"\")\n",
    "        \n",
    "        print(f\"\\n✅ Downloaded {filename} ({os.path.getsize(filename):,} bytes)\")\n",
    "        return filename\n",
    "        \n",
    "    except Exception as e:\n",
    "        print(f\"❌ Error downloading {filename}: {e}\")\n",
    "        return None\n",
    "\n",
    "# Download the Cardiovascular Disease Ontology\n",
    "owl_url = \"http://purl.obolibrary.org/obo/cvdo.owl\"\n",
    "owl_file = \"cvdo.owl\"\n",
    "\n",
    "downloaded_file = download_owl_file(owl_url, owl_file)\n",
    "\n",
    "if downloaded_file:\n",
    "    display(Markdown(f\"**📊 Cardiovascular Disease Ontology downloaded:** `{downloaded_file}`\"))\n",
    "    display(Markdown(f\"**📏 File size:** {os.path.getsize(downloaded_file):,} bytes ({os.path.getsize(downloaded_file)/(1024*1024):.1f} MB)\"))\n",
    "else:\n",
    "    display(Markdown(\"❌ **Failed to download ontology file!**\"))"
   ]
  },
  {
   "cell_type": "markdown",
   "metadata": {},
   "source": [
    "## Step 2: Train a Model\n",
    "\n",
    "Now let's train a Graph Neural Network on the cardiovascular disease ontology structure. We'll use a smaller model for demonstration purposes:"
   ]
  },
  {
   "cell_type": "code",
   "execution_count": 4,
   "metadata": {},
   "outputs": [
    {
     "name": "stdout",
     "output_type": "stream",
     "text": [
      "🚀 Training GNN model on Cardiovascular Disease Ontology...\n",
      "This may take a few minutes depending on ontology size.\n"
     ]
    },
    {
     "data": {
      "text/markdown": [
       "### ✅ Training Complete!"
      ],
      "text/plain": [
       "<IPython.core.display.Markdown object>"
      ]
     },
     "metadata": {},
     "output_type": "display_data"
    },
    {
     "data": {
      "text/markdown": [
       "**Model saved to:** `cvdo_model.pt`"
      ],
      "text/plain": [
       "<IPython.core.display.Markdown object>"
      ]
     },
     "metadata": {},
     "output_type": "display_data"
    },
    {
     "data": {
      "text/markdown": [
       "**Training time:** N/A seconds"
      ],
      "text/plain": [
       "<IPython.core.display.Markdown object>"
      ]
     },
     "metadata": {},
     "output_type": "display_data"
    },
    {
     "data": {
      "text/html": [
       "\n",
       "        <div style=\"background-color: #f0f8ff; padding: 15px; border-radius: 5px; border-left: 4px solid #0066cc;\">\n",
       "        <h4>🤖 Model Configuration</h4>\n",
       "        <ul>\n",
       "            <li><strong>Architecture:</strong> GCN</li>\n",
       "            <li><strong>Hidden Dimensions:</strong> 32</li>\n",
       "            <li><strong>Output Dimensions:</strong> 16</li>\n",
       "            <li><strong>Loss Function:</strong> triplet</li>\n",
       "            <li><strong>Epochs:</strong> 20</li>\n",
       "        </ul>\n",
       "        </div>\n",
       "        "
      ],
      "text/plain": [
       "<IPython.core.display.HTML object>"
      ]
     },
     "metadata": {},
     "output_type": "display_data"
    }
   ],
   "source": [
    "if downloaded_file:\n",
    "    print(\"🚀 Training GNN model on Cardiovascular Disease Ontology...\")\n",
    "    print(\"This may take a few minutes depending on ontology size.\")\n",
    "    \n",
    "    try:\n",
    "        # Train the model using the high-level function\n",
    "        training_result = train_ontology_embeddings(\n",
    "            owl_file=downloaded_file,\n",
    "            model_output='cvdo_model.pt',\n",
    "            model_type='gcn',\n",
    "            hidden_dim=32,      # Smaller for demo\n",
    "            out_dim=16,         # 16-dimensional embeddings\n",
    "            epochs=20,          # Fewer epochs for demo\n",
    "            loss_fn_name='triplet'\n",
    "        )\n",
    "        \n",
    "        display(Markdown(f\"### ✅ Training Complete!\"))\n",
    "        display(Markdown(f\"**Model saved to:** `{training_result['model_path']}`\"))\n",
    "        display(Markdown(f\"**Training time:** {training_result.get('training_time', 'N/A')} seconds\"))\n",
    "        \n",
    "        # Display model info\n",
    "        checkpoint = training_result.get('checkpoint', {})\n",
    "        model_info = checkpoint.get('model_config', {})\n",
    "        \n",
    "        info_html = f\"\"\"\n",
    "        <div style=\"background-color: #f0f8ff; padding: 15px; border-radius: 5px; border-left: 4px solid #0066cc;\">\n",
    "        <h4>🤖 Model Configuration</h4>\n",
    "        <ul>\n",
    "            <li><strong>Architecture:</strong> {model_info.get('model_type', 'GCN').upper()}</li>\n",
    "            <li><strong>Hidden Dimensions:</strong> {model_info.get('hidden_dim', 32)}</li>\n",
    "            <li><strong>Output Dimensions:</strong> {model_info.get('out_dim', 16)}</li>\n",
    "            <li><strong>Loss Function:</strong> {model_info.get('loss_function', 'triplet')}</li>\n",
    "            <li><strong>Epochs:</strong> {model_info.get('epochs', 20)}</li>\n",
    "        </ul>\n",
    "        </div>\n",
    "        \"\"\"\n",
    "        display(HTML(info_html))\n",
    "        \n",
    "        model_file = training_result['model_path']\n",
    "        \n",
    "    except Exception as e:\n",
    "        display(Markdown(f\"❌ **Training failed:** {e}\"))\n",
    "        model_file = None\n",
    "else:\n",
    "    display(Markdown(\"⏭️ **Skipping training** - no ontology file available\"))\n",
    "    model_file = None"
   ]
  },
  {
   "cell_type": "markdown",
   "metadata": {},
   "source": [
    "## Step 3: Generate Embeddings\n",
    "\n",
    "With our trained model, let's generate embeddings for all concepts in the ontology:"
   ]
  },
  {
   "cell_type": "code",
   "execution_count": 5,
   "metadata": {},
   "outputs": [
    {
     "name": "stdout",
     "output_type": "stream",
     "text": [
      "📊 Generating embeddings for all concepts...\n"
     ]
    },
    {
     "data": {
      "text/markdown": [
       "### ✅ Embeddings Generated!"
      ],
      "text/plain": [
       "<IPython.core.display.Markdown object>"
      ]
     },
     "metadata": {},
     "output_type": "display_data"
    },
    {
     "data": {
      "text/markdown": [
       "**File:** `cvdo_embeddings.parquet`"
      ],
      "text/plain": [
       "<IPython.core.display.Markdown object>"
      ]
     },
     "metadata": {},
     "output_type": "display_data"
    },
    {
     "data": {
      "text/markdown": [
       "**Embeddings:** 720 concept vectors"
      ],
      "text/plain": [
       "<IPython.core.display.Markdown object>"
      ]
     },
     "metadata": {},
     "output_type": "display_data"
    },
    {
     "data": {
      "text/markdown": [
       "**Dimensions:** 16 per vector"
      ],
      "text/plain": [
       "<IPython.core.display.Markdown object>"
      ]
     },
     "metadata": {},
     "output_type": "display_data"
    },
    {
     "data": {
      "text/html": [
       "\n",
       "        <div style=\"background-color: #f0fff0; padding: 15px; border-radius: 5px; border-left: 4px solid #00cc66;\">\n",
       "        <h4>🔗 Ontology Alignment</h4>\n",
       "        <ul>\n",
       "            <li><strong>Aligned Classes:</strong> 720</li>\n",
       "            <li><strong>Total Classes:</strong> 0</li>\n",
       "            <li><strong>Alignment Ratio:</strong> 100.0%</li>\n",
       "        </ul>\n",
       "        </div>\n",
       "        "
      ],
      "text/plain": [
       "<IPython.core.display.HTML object>"
      ]
     },
     "metadata": {},
     "output_type": "display_data"
    }
   ],
   "source": [
    "if model_file and downloaded_file:\n",
    "    print(\"📊 Generating embeddings for all concepts...\")\n",
    "    \n",
    "    embedding_file = \"cvdo_embeddings.parquet\"\n",
    "    \n",
    "    try:\n",
    "        # Generate embeddings using the trained model\n",
    "        embedding_result = embed_ontology_with_model(\n",
    "            model_path=model_file,\n",
    "            owl_file=downloaded_file,\n",
    "            output_file=embedding_file\n",
    "        )\n",
    "        \n",
    "        display(Markdown(f\"### ✅ Embeddings Generated!\"))\n",
    "        display(Markdown(f\"**File:** `{embedding_file}`\"))\n",
    "        display(Markdown(f\"**Embeddings:** {len(embedding_result['node_ids']):,} concept vectors\"))\n",
    "        display(Markdown(f\"**Dimensions:** {embedding_result['embeddings'].shape[1]} per vector\"))\n",
    "        \n",
    "        # Display alignment info\n",
    "        alignment = embedding_result.get('alignment_info', {})\n",
    "        \n",
    "        alignment_html = f\"\"\"\n",
    "        <div style=\"background-color: #f0fff0; padding: 15px; border-radius: 5px; border-left: 4px solid #00cc66;\">\n",
    "        <h4>🔗 Ontology Alignment</h4>\n",
    "        <ul>\n",
    "            <li><strong>Aligned Classes:</strong> {alignment.get('aligned_classes', 0):,}</li>\n",
    "            <li><strong>Total Classes:</strong> {alignment.get('total_classes', 0):,}</li>\n",
    "            <li><strong>Alignment Ratio:</strong> {alignment.get('alignment_ratio', 0):.1%}</li>\n",
    "        </ul>\n",
    "        </div>\n",
    "        \"\"\"\n",
    "        display(HTML(alignment_html))\n",
    "        \n",
    "    except Exception as e:\n",
    "        display(Markdown(f\"❌ **Embedding generation failed:** {e}\"))\n",
    "        embedding_file = None\n",
    "else:\n",
    "    display(Markdown(\"⏭️ **Skipping embedding generation** - no trained model available\"))\n",
    "    embedding_file = None"
   ]
  },
  {
   "cell_type": "markdown",
   "metadata": {},
   "source": [
    "## Step 4: Inspect Embeddings Metadata\n",
    "\n",
    "Let's examine the metadata stored in our embedding file:"
   ]
  },
  {
   "cell_type": "code",
   "execution_count": 6,
   "metadata": {},
   "outputs": [
    {
     "name": "stdout",
     "output_type": "stream",
     "text": [
      "🔍 Inspecting embedding file metadata:\n",
      "==================================================\n",
      "\n",
      "📊 Embedding File: cvdo_embeddings.parquet\n",
      "============================================================\n",
      "📈 Embeddings: 720 vectors\n",
      "📐 Dimensions: 16\n",
      "\n",
      "🏷️  Metadata:\n",
      "------------------------------\n",
      "📄 Source Ontology: cvdo.owl\n",
      "⏰ Generated: 2025-09-17 11:26:34\n",
      "🤖 Model: GCN\n",
      "   └─ Hidden: 32, Output: 16\n",
      "🔗 Alignment: 720/0 classes\n",
      "   └─ Ratio: 100.0%\n",
      "📊 Source Size: 1.3 MB\n",
      "\n",
      "📋 Additional Metadata:\n",
      "   timestamp: 2025-09-17T11:26:34.210683\n",
      "   embedding_dimension: 16\n",
      "   num_embeddings: 720\n",
      "\n",
      "============================================================\n"
     ]
    },
    {
     "data": {
      "text/markdown": [
       "**💾 File Size:** 98,314 bytes (0.09 MB)"
      ],
      "text/plain": [
       "<IPython.core.display.Markdown object>"
      ]
     },
     "metadata": {},
     "output_type": "display_data"
    }
   ],
   "source": [
    "if embedding_file and os.path.exists(embedding_file):\n",
    "    print(\"🔍 Inspecting embedding file metadata:\")\n",
    "    print(\"=\" * 50)\n",
    "    \n",
    "    # Use our inspect function to show metadata\n",
    "    metadata = inspect_parquet_metadata(embedding_file)\n",
    "    \n",
    "    # Also show file size info\n",
    "    file_size = os.path.getsize(embedding_file)\n",
    "    display(Markdown(f\"**💾 File Size:** {file_size:,} bytes ({file_size/(1024*1024):.2f} MB)\"))\n",
    "else:\n",
    "    display(Markdown(\"⏭️ **No embedding file to inspect**\"))"
   ]
  },
  {
   "cell_type": "markdown",
   "metadata": {},
   "source": [
    "## Step 5: Load and Explore Embeddings\n",
    "\n",
    "Let's load the embeddings as a DataFrame for analysis:"
   ]
  },
  {
   "cell_type": "code",
   "execution_count": 7,
   "metadata": {},
   "outputs": [
    {
     "data": {
      "text/markdown": [
       "### 📊 DataFrame Overview"
      ],
      "text/plain": [
       "<IPython.core.display.Markdown object>"
      ]
     },
     "metadata": {},
     "output_type": "display_data"
    },
    {
     "data": {
      "text/markdown": [
       "**Shape:** 720 rows × 2 columns"
      ],
      "text/plain": [
       "<IPython.core.display.Markdown object>"
      ]
     },
     "metadata": {},
     "output_type": "display_data"
    },
    {
     "data": {
      "text/markdown": [
       "### 🔎 First 10 Concept IDs:"
      ],
      "text/plain": [
       "<IPython.core.display.Markdown object>"
      ]
     },
     "metadata": {},
     "output_type": "display_data"
    },
    {
     "data": {
      "text/markdown": [
       "** 1.** `BFO_0000020` → `http://purl.obolibrary.org/obo/BFO_0000020`"
      ],
      "text/plain": [
       "<IPython.core.display.Markdown object>"
      ]
     },
     "metadata": {},
     "output_type": "display_data"
    },
    {
     "data": {
      "text/markdown": [
       "** 2.** `BFO_0000006` → `http://purl.obolibrary.org/obo/BFO_0000006`"
      ],
      "text/plain": [
       "<IPython.core.display.Markdown object>"
      ]
     },
     "metadata": {},
     "output_type": "display_data"
    },
    {
     "data": {
      "text/markdown": [
       "** 3.** `BFO_0000004` → `http://purl.obolibrary.org/obo/BFO_0000004`"
      ],
      "text/plain": [
       "<IPython.core.display.Markdown object>"
      ]
     },
     "metadata": {},
     "output_type": "display_data"
    },
    {
     "data": {
      "text/markdown": [
       "** 4.** `BFO_0000017` → `http://purl.obolibrary.org/obo/BFO_0000017`"
      ],
      "text/plain": [
       "<IPython.core.display.Markdown object>"
      ]
     },
     "metadata": {},
     "output_type": "display_data"
    },
    {
     "data": {
      "text/markdown": [
       "** 5.** `BFO_0000015` → `http://purl.obolibrary.org/obo/BFO_0000015`"
      ],
      "text/plain": [
       "<IPython.core.display.Markdown object>"
      ]
     },
     "metadata": {},
     "output_type": "display_data"
    },
    {
     "data": {
      "text/markdown": [
       "** 6.** `BFO_0000002` → `http://purl.obolibrary.org/obo/BFO_0000002`"
      ],
      "text/plain": [
       "<IPython.core.display.Markdown object>"
      ]
     },
     "metadata": {},
     "output_type": "display_data"
    },
    {
     "data": {
      "text/markdown": [
       "** 7.** `BFO_0000031` → `http://purl.obolibrary.org/obo/BFO_0000031`"
      ],
      "text/plain": [
       "<IPython.core.display.Markdown object>"
      ]
     },
     "metadata": {},
     "output_type": "display_data"
    },
    {
     "data": {
      "text/markdown": [
       "** 8.** `BFO_0000035` → `http://purl.obolibrary.org/obo/BFO_0000035`"
      ],
      "text/plain": [
       "<IPython.core.display.Markdown object>"
      ]
     },
     "metadata": {},
     "output_type": "display_data"
    },
    {
     "data": {
      "text/markdown": [
       "** 9.** `BFO_0000029` → `http://purl.obolibrary.org/obo/BFO_0000029`"
      ],
      "text/plain": [
       "<IPython.core.display.Markdown object>"
      ]
     },
     "metadata": {},
     "output_type": "display_data"
    },
    {
     "data": {
      "text/markdown": [
       "**10.** `BFO_0000040` → `http://purl.obolibrary.org/obo/BFO_0000040`"
      ],
      "text/plain": [
       "<IPython.core.display.Markdown object>"
      ]
     },
     "metadata": {},
     "output_type": "display_data"
    },
    {
     "data": {
      "text/markdown": [
       "... and 710 more concepts"
      ],
      "text/plain": [
       "<IPython.core.display.Markdown object>"
      ]
     },
     "metadata": {},
     "output_type": "display_data"
    },
    {
     "data": {
      "text/markdown": [
       "### 📈 Embedding Statistics"
      ],
      "text/plain": [
       "<IPython.core.display.Markdown object>"
      ]
     },
     "metadata": {},
     "output_type": "display_data"
    },
    {
     "data": {
      "text/markdown": [
       "**Vector dimensions:** 16"
      ],
      "text/plain": [
       "<IPython.core.display.Markdown object>"
      ]
     },
     "metadata": {},
     "output_type": "display_data"
    },
    {
     "data": {
      "text/markdown": [
       "**Sample vector range:** [-0.928, 0.873]"
      ],
      "text/plain": [
       "<IPython.core.display.Markdown object>"
      ]
     },
     "metadata": {},
     "output_type": "display_data"
    },
    {
     "data": {
      "text/markdown": [
       "**Sample vector mean:** -0.033"
      ],
      "text/plain": [
       "<IPython.core.display.Markdown object>"
      ]
     },
     "metadata": {},
     "output_type": "display_data"
    }
   ],
   "source": [
    "if embedding_file and os.path.exists(embedding_file):\n",
    "    # Load embeddings as DataFrame\n",
    "    df, metadata = load_embeddings_as_dataframe(embedding_file, return_metadata=True)\n",
    "    \n",
    "    display(Markdown(f\"### 📊 DataFrame Overview\"))\n",
    "    display(Markdown(f\"**Shape:** {df.shape[0]:,} rows × {df.shape[1]} columns\"))\n",
    "    \n",
    "    # Show first few rows\n",
    "    display(Markdown(\"### 🔎 First 10 Concept IDs:\"))\n",
    "    \n",
    "    for i, node_id in enumerate(df['node_id'].head(10).to_list(), 1):\n",
    "        # Make URIs more readable by showing just the end part\n",
    "        short_id = node_id.split('/')[-1] if '/' in node_id else node_id\n",
    "        display(Markdown(f\"**{i:2d}.** `{short_id}` → `{node_id}`\"))\n",
    "    \n",
    "    if len(df) > 10:\n",
    "        display(Markdown(f\"... and {len(df) - 10:,} more concepts\"))\n",
    "    \n",
    "    # Show embedding statistics\n",
    "    sample_embedding = np.array(df['embedding'][0])\n",
    "    display(Markdown(f\"### 📈 Embedding Statistics\"))\n",
    "    display(Markdown(f\"**Vector dimensions:** {len(sample_embedding)}\"))\n",
    "    display(Markdown(f\"**Sample vector range:** [{sample_embedding.min():.3f}, {sample_embedding.max():.3f}]\"))\n",
    "    display(Markdown(f\"**Sample vector mean:** {sample_embedding.mean():.3f}\"))\n",
    "    \n",
    "else:\n",
    "    display(Markdown(\"⏭️ **No embedding file to analyze**\"))"
   ]
  },
  {
   "cell_type": "markdown",
   "metadata": {},
   "source": [
    "## Step 6: Vector Operations\n",
    "\n",
    "Let's demonstrate vector arithmetic operations on embeddings:"
   ]
  },
  {
   "cell_type": "code",
   "execution_count": 8,
   "metadata": {},
   "outputs": [
    {
     "data": {
      "text/markdown": [
       "### ➕ Vector Addition"
      ],
      "text/plain": [
       "<IPython.core.display.Markdown object>"
      ]
     },
     "metadata": {},
     "output_type": "display_data"
    },
    {
     "data": {
      "text/markdown": [
       "Computing: `BFO_0000020` + `BFO_0000006`"
      ],
      "text/plain": [
       "<IPython.core.display.Markdown object>"
      ]
     },
     "metadata": {},
     "output_type": "display_data"
    },
    {
     "data": {
      "text/markdown": [
       "**Result:** 16-dimensional vector"
      ],
      "text/plain": [
       "<IPython.core.display.Markdown object>"
      ]
     },
     "metadata": {},
     "output_type": "display_data"
    },
    {
     "data": {
      "text/markdown": [
       "**Range:** [-2.032, 1.828]"
      ],
      "text/plain": [
       "<IPython.core.display.Markdown object>"
      ]
     },
     "metadata": {},
     "output_type": "display_data"
    },
    {
     "data": {
      "text/markdown": [
       "**Mean:** 0.157"
      ],
      "text/plain": [
       "<IPython.core.display.Markdown object>"
      ]
     },
     "metadata": {},
     "output_type": "display_data"
    },
    {
     "data": {
      "text/markdown": [
       "### ➖ Vector Subtraction"
      ],
      "text/plain": [
       "<IPython.core.display.Markdown object>"
      ]
     },
     "metadata": {},
     "output_type": "display_data"
    },
    {
     "data": {
      "text/markdown": [
       "Computing: `BFO_0000020` - `BFO_0000004`"
      ],
      "text/plain": [
       "<IPython.core.display.Markdown object>"
      ]
     },
     "metadata": {},
     "output_type": "display_data"
    },
    {
     "data": {
      "text/markdown": [
       "**Result:** 16-dimensional vector"
      ],
      "text/plain": [
       "<IPython.core.display.Markdown object>"
      ]
     },
     "metadata": {},
     "output_type": "display_data"
    },
    {
     "data": {
      "text/markdown": [
       "**Range:** [-0.458, 0.328]"
      ],
      "text/plain": [
       "<IPython.core.display.Markdown object>"
      ]
     },
     "metadata": {},
     "output_type": "display_data"
    },
    {
     "data": {
      "text/markdown": [
       "**Mean:** -0.116"
      ],
      "text/plain": [
       "<IPython.core.display.Markdown object>"
      ]
     },
     "metadata": {},
     "output_type": "display_data"
    },
    {
     "data": {
      "text/markdown": [
       "### 🎯 Individual Vector Retrieval"
      ],
      "text/plain": [
       "<IPython.core.display.Markdown object>"
      ]
     },
     "metadata": {},
     "output_type": "display_data"
    },
    {
     "data": {
      "text/markdown": [
       "Getting embedding for: `BFO_0000020`"
      ],
      "text/plain": [
       "<IPython.core.display.Markdown object>"
      ]
     },
     "metadata": {},
     "output_type": "display_data"
    },
    {
     "data": {
      "text/markdown": [
       "**Dimensions:** 16"
      ],
      "text/plain": [
       "<IPython.core.display.Markdown object>"
      ]
     },
     "metadata": {},
     "output_type": "display_data"
    },
    {
     "data": {
      "text/markdown": [
       "**First 5 values:** [-0.6471280455589294, 0.5326902866363525, -0.0022261682897806168, 0.2935771942138672, -0.702740490436554]"
      ],
      "text/plain": [
       "<IPython.core.display.Markdown object>"
      ]
     },
     "metadata": {},
     "output_type": "display_data"
    },
    {
     "data": {
      "text/markdown": [
       "**Last 5 values:** [-0.0542389415204525, 0.8728678226470947, 0.09189876168966293, 0.454987108707428, 0.06532125920057297]"
      ],
      "text/plain": [
       "<IPython.core.display.Markdown object>"
      ]
     },
     "metadata": {},
     "output_type": "display_data"
    }
   ],
   "source": [
    "if embedding_file and os.path.exists(embedding_file):\n",
    "    # Get first few concept IDs for demonstration\n",
    "    df = load_embeddings_as_dataframe(embedding_file)\n",
    "    concept_ids = df['node_id'].head(5).to_list()\n",
    "    \n",
    "    if len(concept_ids) >= 3:\n",
    "        concept1 = concept_ids[0]\n",
    "        concept2 = concept_ids[1]\n",
    "        concept3 = concept_ids[2]\n",
    "        \n",
    "        display(Markdown(\"### ➕ Vector Addition\"))\n",
    "        display(Markdown(f\"Computing: `{concept1.split('/')[-1]}` + `{concept2.split('/')[-1]}`\"))\n",
    "        \n",
    "        # Add two vectors\n",
    "        try:\n",
    "            sum_vector = add_embedding_vectors(embedding_file, concept1, embedding_file, concept2)\n",
    "            display(Markdown(f\"**Result:** {len(sum_vector)}-dimensional vector\"))\n",
    "            display(Markdown(f\"**Range:** [{sum_vector.min():.3f}, {sum_vector.max():.3f}]\"))\n",
    "            display(Markdown(f\"**Mean:** {sum_vector.mean():.3f}\"))\n",
    "        except Exception as e:\n",
    "            display(Markdown(f\"❌ Addition failed: {e}\"))\n",
    "        \n",
    "        display(Markdown(\"### ➖ Vector Subtraction\"))\n",
    "        display(Markdown(f\"Computing: `{concept1.split('/')[-1]}` - `{concept3.split('/')[-1]}`\"))\n",
    "        \n",
    "        # Subtract two vectors\n",
    "        try:\n",
    "            diff_vector = subtract_embedding_vectors(embedding_file, concept1, embedding_file, concept3)\n",
    "            display(Markdown(f\"**Result:** {len(diff_vector)}-dimensional vector\"))\n",
    "            display(Markdown(f\"**Range:** [{diff_vector.min():.3f}, {diff_vector.max():.3f}]\"))\n",
    "            display(Markdown(f\"**Mean:** {diff_vector.mean():.3f}\"))\n",
    "        except Exception as e:\n",
    "            display(Markdown(f\"❌ Subtraction failed: {e}\"))\n",
    "        \n",
    "        display(Markdown(\"### 🎯 Individual Vector Retrieval\"))\n",
    "        display(Markdown(f\"Getting embedding for: `{concept1.split('/')[-1]}`\"))\n",
    "        \n",
    "        try:\n",
    "            vector = get_embedding_vector(embedding_file, concept1)\n",
    "            display(Markdown(f\"**Dimensions:** {len(vector)}\"))\n",
    "            display(Markdown(f\"**First 5 values:** {vector[:5].tolist()}\"))\n",
    "            display(Markdown(f\"**Last 5 values:** {vector[-5:].tolist()}\"))\n",
    "        except Exception as e:\n",
    "            display(Markdown(f\"❌ Vector retrieval failed: {e}\"))\n",
    "    \n",
    "    else:\n",
    "        display(Markdown(\"⚠️ **Not enough concepts for vector operations demo**\"))\n",
    "else:\n",
    "    display(Markdown(\"⏭️ **No embedding file for vector operations**\"))"
   ]
  },
  {
   "cell_type": "markdown",
   "metadata": {},
   "source": [
    "## Step 7: Format Conversion\n",
    "\n",
    "Finally, let's convert our embeddings to CSV format for use with other tools:"
   ]
  },
  {
   "cell_type": "code",
   "execution_count": 9,
   "metadata": {},
   "outputs": [
    {
     "data": {
      "text/markdown": [
       "### 📁 Converting to CSV Format"
      ],
      "text/plain": [
       "<IPython.core.display.Markdown object>"
      ]
     },
     "metadata": {},
     "output_type": "display_data"
    },
    {
     "data": {
      "text/markdown": [
       "✅ **Conversion complete!**"
      ],
      "text/plain": [
       "<IPython.core.display.Markdown object>"
      ]
     },
     "metadata": {},
     "output_type": "display_data"
    },
    {
     "data": {
      "text/markdown": [
       "**CSV file:** `cvdo_embeddings.csv`"
      ],
      "text/plain": [
       "<IPython.core.display.Markdown object>"
      ]
     },
     "metadata": {},
     "output_type": "display_data"
    },
    {
     "data": {
      "text/markdown": [
       "**CSV size:** 261,784 bytes (0.25 MB)"
      ],
      "text/plain": [
       "<IPython.core.display.Markdown object>"
      ]
     },
     "metadata": {},
     "output_type": "display_data"
    },
    {
     "data": {
      "text/markdown": [
       "**Parquet size:** 98,314 bytes (0.09 MB)"
      ],
      "text/plain": [
       "<IPython.core.display.Markdown object>"
      ]
     },
     "metadata": {},
     "output_type": "display_data"
    },
    {
     "data": {
      "text/markdown": [
       "**Size ratio:** CSV is 2.7x larger than Parquet"
      ],
      "text/plain": [
       "<IPython.core.display.Markdown object>"
      ]
     },
     "metadata": {},
     "output_type": "display_data"
    },
    {
     "data": {
      "text/markdown": [
       "### 👀 CSV Preview (first 3 lines):"
      ],
      "text/plain": [
       "<IPython.core.display.Markdown object>"
      ]
     },
     "metadata": {},
     "output_type": "display_data"
    },
    {
     "data": {
      "text/markdown": [
       "**Line 1:** `node_id,dim_0,dim_1,dim_2,dim_3,dim_4,dim_5,dim_6,dim_7,dim_8,dim_9,dim_10,dim_11,dim_12,dim_13,dim_...`"
      ],
      "text/plain": [
       "<IPython.core.display.Markdown object>"
      ]
     },
     "metadata": {},
     "output_type": "display_data"
    },
    {
     "data": {
      "text/markdown": [
       "**Line 2:** `http://purl.obolibrary.org/obo/BFO_0000020,-0.6471280455589294,0.5326902866363525,-0.002226168289780...`"
      ],
      "text/plain": [
       "<IPython.core.display.Markdown object>"
      ]
     },
     "metadata": {},
     "output_type": "display_data"
    },
    {
     "data": {
      "text/markdown": [
       "**Line 3:** `http://purl.obolibrary.org/obo/BFO_0000006,-1.3850938081741333,0.7696705460548401,0.5669081807136536...`"
      ],
      "text/plain": [
       "<IPython.core.display.Markdown object>"
      ]
     },
     "metadata": {},
     "output_type": "display_data"
    }
   ],
   "source": [
    "if embedding_file and os.path.exists(embedding_file):\n",
    "    display(Markdown(\"### 📁 Converting to CSV Format\"))\n",
    "    \n",
    "    try:\n",
    "        csv_file = convert_parquet_to_csv(embedding_file)\n",
    "        \n",
    "        csv_size = os.path.getsize(csv_file)\n",
    "        parquet_size = os.path.getsize(embedding_file)\n",
    "        \n",
    "        display(Markdown(f\"✅ **Conversion complete!**\"))\n",
    "        display(Markdown(f\"**CSV file:** `{csv_file}`\"))\n",
    "        display(Markdown(f\"**CSV size:** {csv_size:,} bytes ({csv_size/(1024*1024):.2f} MB)\"))\n",
    "        display(Markdown(f\"**Parquet size:** {parquet_size:,} bytes ({parquet_size/(1024*1024):.2f} MB)\"))\n",
    "        display(Markdown(f\"**Size ratio:** CSV is {csv_size/parquet_size:.1f}x larger than Parquet\"))\n",
    "        \n",
    "        # Show CSV preview\n",
    "        display(Markdown(\"### 👀 CSV Preview (first 3 lines):\"))\n",
    "        \n",
    "        try:\n",
    "            with open(csv_file, 'r') as f:\n",
    "                lines = [f.readline().strip() for _ in range(3)]\n",
    "            \n",
    "            for i, line in enumerate(lines, 1):\n",
    "                # Truncate long lines for display\n",
    "                display_line = line[:100] + \"...\" if len(line) > 100 else line\n",
    "                display(Markdown(f\"**Line {i}:** `{display_line}`\"))\n",
    "                \n",
    "        except Exception as e:\n",
    "            display(Markdown(f\"⚠️ Could not read CSV preview: {e}\"))\n",
    "    \n",
    "    except Exception as e:\n",
    "        display(Markdown(f\"❌ **CSV conversion failed:** {e}\"))\n",
    "else:\n",
    "    display(Markdown(\"⏭️ **No embedding file to convert**\"))"
   ]
  },
  {
   "cell_type": "markdown",
   "metadata": {},
   "source": [
    "## Summary & Next Steps\n",
    "\n",
    "🎉 **Congratulations!** You've successfully:\n",
    "\n",
    "1. ⬇️ Downloaded a real-world ontology (Cardiovascular Disease Ontology)\n",
    "2. 🤖 Trained a Graph Neural Network on the ontology structure\n",
    "3. 📊 Generated high-dimensional embeddings for all concepts\n",
    "4. 🔍 Inspected the rich metadata stored with embeddings\n",
    "5. ➕➖ Performed vector arithmetic operations\n",
    "6. 📁 Converted between Parquet and CSV formats\n",
    "\n",
    "### 🚀 What You Can Do Next:\n",
    "\n",
    "- **Analyze similarities:** Use cosine similarity to find related cardiovascular concepts\n",
    "- **Cluster concepts:** Apply K-means or hierarchical clustering to discover disease patterns\n",
    "- **Visualize:** Create UMAP or t-SNE plots of the cardiovascular disease embedding space\n",
    "- **Cross-ontology mapping:** Train on CVDO, embed other medical ontologies\n",
    "- **Semantic search:** Find diseases similar to a query condition\n",
    "\n",
    "### 📚 Learn More:\n",
    "\n",
    "- Check the project README for CLI tools and advanced usage\n",
    "- Explore the `parquet_tools.py` script for more utilities\n",
    "- Try different GNN architectures (GCN, GAT) and loss functions\n",
    "- Experiment with different embedding dimensions and training parameters"
   ]
  },
  {
   "cell_type": "markdown",
   "metadata": {},
   "source": [
    "---\n",
    "\n",
    "### 🧹 Cleanup (Optional)\n",
    "\n",
    "Run this cell if you want to remove the generated files:"
   ]
  },
  {
   "cell_type": "code",
   "execution_count": null,
   "metadata": {},
   "outputs": [],
   "source": [
    "# Uncomment and run to clean up generated files\n",
    "# import os\n",
    "\n",
    "# files_to_remove = ['cvdo.owl', 'cvdo_model.pt', 'cvdo_embeddings.parquet', 'cvdo_embeddings.csv']\n",
    "\n",
    "# for filename in files_to_remove:\n",
    "#     if os.path.exists(filename):\n",
    "#         os.remove(filename)\n",
    "#         print(f\"🗑️ Removed {filename}\")\n",
    "#     else:\n",
    "#         print(f\"⚠️ {filename} not found\")\n",
    "\n",
    "# print(\"✅ Cleanup complete!\")"
   ]
  }
 ],
 "metadata": {
  "kernelspec": {
   "display_name": "Python 3 (ipykernel)",
   "language": "python",
   "name": "python3"
  },
  "language_info": {
   "codemirror_mode": {
    "name": "ipython",
    "version": 3
   },
   "file_extension": ".py",
   "mimetype": "text/x-python",
   "name": "python",
   "nbconvert_exporter": "python",
   "pygments_lexer": "ipython3",
   "version": "3.10.16"
  }
 },
 "nbformat": 4,
 "nbformat_minor": 4
}
